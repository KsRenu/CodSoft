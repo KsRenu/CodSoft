{
 "cells": [
  {
   "cell_type": "markdown",
   "metadata": {},
   "source": [
    "# Task Description\n",
    "Sales prediction involves forecasting the amount of a product that\n",
    "customers will purchase, taking into account various factors such as\n",
    "advertising expenditure, target audience segmentation, and\n",
    "advertising platform selection.\n",
    "In businesses that offer products or services, the role of a Data\n",
    "Scientist is crucial for predicting future sales. They utilize machine\n",
    "learning techniques in Python to analyze and interpret data, allowing\n",
    "them to make informed decisions regarding advertising costs. By\n",
    "leveraging these predictions, businesses can optimize their\n",
    "advertising strategies and maximize sales potential. Let'\n",
    "s embark on\n",
    "the journey of sales prediction using machine learning in Python.\n",
    "\n",
    "\n",
    "Reference: https://www.kaggle.com/code/ashydv/sales-prediction-simple-linear-regression/input"
   ]
  },
  {
   "cell_type": "markdown",
   "metadata": {},
   "source": []
  }
 ],
 "metadata": {
  "language_info": {
   "name": "python"
  }
 },
 "nbformat": 4,
 "nbformat_minor": 2
}
