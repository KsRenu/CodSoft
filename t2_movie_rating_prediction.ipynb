{
 "cells": [
  {
   "cell_type": "markdown",
   "metadata": {},
   "source": [
    "# Task Description\n",
    "Build a model that predicts the rating of a movie based on\n",
    "features like genre, director, and actors. You can use regression\n",
    "techniques to tackle this problem.\n",
    "The goal is to analyze historical movie data and develop a model\n",
    "that accurately estimates the rating given to a movie by users or\n",
    "critics.\n",
    "Movie Rating Prediction project enables you to explore data\n",
    "analysis, preprocessing, feature engineering, and machine\n",
    "learning modeling techniques. It provides insights into the factors\n",
    "that influence movie ratings and allows you to build a model that\n",
    "can estimate the ratings of movies accurately."
   ]
  },
  {
   "cell_type": "markdown",
   "metadata": {},
   "source": []
  }
 ],
 "metadata": {
  "language_info": {
   "name": "python"
  }
 },
 "nbformat": 4,
 "nbformat_minor": 2
}
