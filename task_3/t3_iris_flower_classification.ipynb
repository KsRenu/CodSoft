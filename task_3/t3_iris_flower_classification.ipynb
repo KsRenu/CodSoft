{
 "cells": [
  {
   "cell_type": "markdown",
   "metadata": {},
   "source": [
    "# Task Description\n",
    "The Iris flower dataset consists of three species: setosa, versicolor,\n",
    "and virginica. These species can be distinguished based on their\n",
    "measurements. Now, imagine that you have the measurements\n",
    "of Iris flowers categorized by their respective species. Your\n",
    "objective is to train a machine learning model that can learn from\n",
    "these measurements and accurately classify the Iris flowers into\n",
    "their respective species.\n",
    "Use the Iris dataset to develop a model that can classify iris\n",
    "flowers into different species based on their sepal and petal\n",
    "measurements. This dataset is widely used for introductory\n",
    "classification tasks.\n",
    "\n",
    "Reference : https://www.kaggle.com/datasets/arshid/iris-flower-dataset"
   ]
  },
  {
   "cell_type": "markdown",
   "metadata": {},
   "source": []
  },
  {
   "cell_type": "markdown",
   "metadata": {},
   "source": []
  }
 ],
 "metadata": {
  "language_info": {
   "name": "python"
  }
 },
 "nbformat": 4,
 "nbformat_minor": 2
}
